{
 "cells": [
  {
   "cell_type": "code",
   "execution_count": 1,
   "metadata": {},
   "outputs": [],
   "source": [
    "import pandas as pd"
   ]
  },
  {
   "cell_type": "code",
   "execution_count": 2,
   "metadata": {},
   "outputs": [],
   "source": [
    "data = pd.read_csv('review.csv')"
   ]
  },
  {
   "cell_type": "code",
   "execution_count": 3,
   "metadata": {},
   "outputs": [
    {
     "data": {
      "text/plain": [
       "(3594, 4)"
      ]
     },
     "execution_count": 3,
     "metadata": {},
     "output_type": "execute_result"
    }
   ],
   "source": [
    "data.shape"
   ]
  },
  {
   "cell_type": "code",
   "execution_count": 4,
   "metadata": {},
   "outputs": [],
   "source": [
    "data.drop(columns=['Unnamed: 3'],inplace=True)"
   ]
  },
  {
   "cell_type": "code",
   "execution_count": 21,
   "metadata": {},
   "outputs": [
    {
     "data": {
      "text/html": [
       "<div>\n",
       "<style scoped>\n",
       "    .dataframe tbody tr th:only-of-type {\n",
       "        vertical-align: middle;\n",
       "    }\n",
       "\n",
       "    .dataframe tbody tr th {\n",
       "        vertical-align: top;\n",
       "    }\n",
       "\n",
       "    .dataframe thead th {\n",
       "        text-align: right;\n",
       "    }\n",
       "</style>\n",
       "<table border=\"1\" class=\"dataframe\">\n",
       "  <thead>\n",
       "    <tr style=\"text-align: right;\">\n",
       "      <th></th>\n",
       "      <th>contributions</th>\n",
       "      <th>title</th>\n",
       "      <th>review</th>\n",
       "    </tr>\n",
       "  </thead>\n",
       "  <tbody>\n",
       "    <tr>\n",
       "      <th>0</th>\n",
       "      <td>39</td>\n",
       "      <td>Our NYC Go To!</td>\n",
       "      <td>When visiting New York City| we choose to stay...</td>\n",
       "    </tr>\n",
       "    <tr>\n",
       "      <th>1</th>\n",
       "      <td>70</td>\n",
       "      <td>Great Central Location</td>\n",
       "      <td>Stayed here 4 nights with the family checking ...</td>\n",
       "    </tr>\n",
       "    <tr>\n",
       "      <th>2</th>\n",
       "      <td>1</td>\n",
       "      <td>another great experience in NYC!</td>\n",
       "      <td>Our second visit to Hotel Giraffe this year wa...</td>\n",
       "    </tr>\n",
       "    <tr>\n",
       "      <th>3</th>\n",
       "      <td>15</td>\n",
       "      <td>Great hotel| fantastic location</td>\n",
       "      <td>We stayed for 7 days| business and leisure tri...</td>\n",
       "    </tr>\n",
       "    <tr>\n",
       "      <th>4</th>\n",
       "      <td>5</td>\n",
       "      <td>perfect stay in NYC</td>\n",
       "      <td>this hotel is perfect| well located| just 2 bl...</td>\n",
       "    </tr>\n",
       "  </tbody>\n",
       "</table>\n",
       "</div>"
      ],
      "text/plain": [
       "   contributions                             title  \\\n",
       "0             39                    Our NYC Go To!   \n",
       "1             70            Great Central Location   \n",
       "2              1  another great experience in NYC!   \n",
       "3             15   Great hotel| fantastic location   \n",
       "4              5               perfect stay in NYC   \n",
       "\n",
       "                                              review  \n",
       "0  When visiting New York City| we choose to stay...  \n",
       "1  Stayed here 4 nights with the family checking ...  \n",
       "2  Our second visit to Hotel Giraffe this year wa...  \n",
       "3  We stayed for 7 days| business and leisure tri...  \n",
       "4  this hotel is perfect| well located| just 2 bl...  "
      ]
     },
     "execution_count": 21,
     "metadata": {},
     "output_type": "execute_result"
    }
   ],
   "source": [
    "data.head()"
   ]
  },
  {
   "cell_type": "code",
   "execution_count": 23,
   "metadata": {},
   "outputs": [],
   "source": [
    "from nltk.sentiment.vader import SentimentIntensityAnalyzer"
   ]
  },
  {
   "cell_type": "code",
   "execution_count": 25,
   "metadata": {},
   "outputs": [
    {
     "name": "stderr",
     "output_type": "stream",
     "text": [
      "[nltk_data] Downloading package vader_lexicon to\n",
      "[nltk_data]     /Users/aayush/nltk_data...\n"
     ]
    },
    {
     "data": {
      "text/plain": [
       "True"
      ]
     },
     "execution_count": 25,
     "metadata": {},
     "output_type": "execute_result"
    }
   ],
   "source": [
    "import nltk\n",
    "nltk.download('vader_lexicon')"
   ]
  },
  {
   "cell_type": "code",
   "execution_count": 26,
   "metadata": {},
   "outputs": [],
   "source": [
    "analyzer = SentimentIntensityAnalyzer()"
   ]
  },
  {
   "cell_type": "code",
   "execution_count": 29,
   "metadata": {},
   "outputs": [],
   "source": [
    "data['neg'] = data['review'].apply(lambda x:analyzer.polarity_scores(x)['neg'])\n",
    "data['neu'] = data['review'].apply(lambda x:analyzer.polarity_scores(x)['neu'])\n",
    "data['pos'] = data['review'].apply(lambda x:analyzer.polarity_scores(x)['pos'])\n",
    "data['compound'] = data['review'].apply(lambda x:analyzer.polarity_scores(x)['compound'])"
   ]
  },
  {
   "cell_type": "code",
   "execution_count": 30,
   "metadata": {},
   "outputs": [
    {
     "data": {
      "text/html": [
       "<div>\n",
       "<style scoped>\n",
       "    .dataframe tbody tr th:only-of-type {\n",
       "        vertical-align: middle;\n",
       "    }\n",
       "\n",
       "    .dataframe tbody tr th {\n",
       "        vertical-align: top;\n",
       "    }\n",
       "\n",
       "    .dataframe thead th {\n",
       "        text-align: right;\n",
       "    }\n",
       "</style>\n",
       "<table border=\"1\" class=\"dataframe\">\n",
       "  <thead>\n",
       "    <tr style=\"text-align: right;\">\n",
       "      <th></th>\n",
       "      <th>contributions</th>\n",
       "      <th>title</th>\n",
       "      <th>review</th>\n",
       "      <th>neg</th>\n",
       "      <th>neu</th>\n",
       "      <th>pos</th>\n",
       "      <th>compound</th>\n",
       "    </tr>\n",
       "  </thead>\n",
       "  <tbody>\n",
       "    <tr>\n",
       "      <th>0</th>\n",
       "      <td>39</td>\n",
       "      <td>Our NYC Go To!</td>\n",
       "      <td>When visiting New York City| we choose to stay...</td>\n",
       "      <td>0.000</td>\n",
       "      <td>0.955</td>\n",
       "      <td>0.045</td>\n",
       "      <td>0.2732</td>\n",
       "    </tr>\n",
       "    <tr>\n",
       "      <th>1</th>\n",
       "      <td>70</td>\n",
       "      <td>Great Central Location</td>\n",
       "      <td>Stayed here 4 nights with the family checking ...</td>\n",
       "      <td>0.000</td>\n",
       "      <td>0.937</td>\n",
       "      <td>0.063</td>\n",
       "      <td>0.8400</td>\n",
       "    </tr>\n",
       "    <tr>\n",
       "      <th>2</th>\n",
       "      <td>1</td>\n",
       "      <td>another great experience in NYC!</td>\n",
       "      <td>Our second visit to Hotel Giraffe this year wa...</td>\n",
       "      <td>0.000</td>\n",
       "      <td>0.872</td>\n",
       "      <td>0.128</td>\n",
       "      <td>0.5719</td>\n",
       "    </tr>\n",
       "    <tr>\n",
       "      <th>3</th>\n",
       "      <td>15</td>\n",
       "      <td>Great hotel| fantastic location</td>\n",
       "      <td>We stayed for 7 days| business and leisure tri...</td>\n",
       "      <td>0.030</td>\n",
       "      <td>0.802</td>\n",
       "      <td>0.168</td>\n",
       "      <td>0.8803</td>\n",
       "    </tr>\n",
       "    <tr>\n",
       "      <th>4</th>\n",
       "      <td>5</td>\n",
       "      <td>perfect stay in NYC</td>\n",
       "      <td>this hotel is perfect| well located| just 2 bl...</td>\n",
       "      <td>0.048</td>\n",
       "      <td>0.758</td>\n",
       "      <td>0.194</td>\n",
       "      <td>0.6997</td>\n",
       "    </tr>\n",
       "  </tbody>\n",
       "</table>\n",
       "</div>"
      ],
      "text/plain": [
       "   contributions                             title  \\\n",
       "0             39                    Our NYC Go To!   \n",
       "1             70            Great Central Location   \n",
       "2              1  another great experience in NYC!   \n",
       "3             15   Great hotel| fantastic location   \n",
       "4              5               perfect stay in NYC   \n",
       "\n",
       "                                              review    neg    neu    pos  \\\n",
       "0  When visiting New York City| we choose to stay...  0.000  0.955  0.045   \n",
       "1  Stayed here 4 nights with the family checking ...  0.000  0.937  0.063   \n",
       "2  Our second visit to Hotel Giraffe this year wa...  0.000  0.872  0.128   \n",
       "3  We stayed for 7 days| business and leisure tri...  0.030  0.802  0.168   \n",
       "4  this hotel is perfect| well located| just 2 bl...  0.048  0.758  0.194   \n",
       "\n",
       "   compound  \n",
       "0    0.2732  \n",
       "1    0.8400  \n",
       "2    0.5719  \n",
       "3    0.8803  \n",
       "4    0.6997  "
      ]
     },
     "execution_count": 30,
     "metadata": {},
     "output_type": "execute_result"
    }
   ],
   "source": [
    "data.head()"
   ]
  },
  {
   "cell_type": "code",
   "execution_count": 35,
   "metadata": {},
   "outputs": [],
   "source": [
    "pos_review = [ j for i,j in enumerate(data['review']) if data['compound'][i] > 0.2]\n",
    "neu_review = [ j for i,j in enumerate(data['review']) if 0.2>=data['compound'][i] >= -0.2]\n",
    "neg_review = [ j for i,j in enumerate(data['review']) if data['compound'][i] < -0.2]"
   ]
  },
  {
   "cell_type": "code",
   "execution_count": 37,
   "metadata": {},
   "outputs": [
    {
     "name": "stdout",
     "output_type": "stream",
     "text": [
      "Percentage of Positive Review: 98.05230940456316%\n",
      "Percentage of Neutral Review: 1.001669449081803%\n",
      "Percentage of Negative Review: 0.9460211463550362%\n"
     ]
    }
   ],
   "source": [
    "print(\"Percentage of Positive Review: {}%\".format(len(pos_review)*100/len(data['review'])))\n",
    "print(\"Percentage of Neutral Review: {}%\".format(len(neu_review)*100/len(data['review'])))\n",
    "print(\"Percentage of Negative Review: {}%\".format(len(neg_review)*100/len(data['review'])))"
   ]
  },
  {
   "cell_type": "code",
   "execution_count": null,
   "metadata": {},
   "outputs": [],
   "source": []
  }
 ],
 "metadata": {
  "kernelspec": {
   "display_name": "Python 3",
   "language": "python",
   "name": "python3"
  },
  "language_info": {
   "codemirror_mode": {
    "name": "ipython",
    "version": 3
   },
   "file_extension": ".py",
   "mimetype": "text/x-python",
   "name": "python",
   "nbconvert_exporter": "python",
   "pygments_lexer": "ipython3",
   "version": "3.7.3"
  }
 },
 "nbformat": 4,
 "nbformat_minor": 2
}
